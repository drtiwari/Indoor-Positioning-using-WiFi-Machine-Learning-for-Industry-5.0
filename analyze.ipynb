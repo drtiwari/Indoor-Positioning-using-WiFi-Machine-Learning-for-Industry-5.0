{
 "cells": [
  {
   "cell_type": "code",
   "execution_count": 1,
   "metadata": {},
   "outputs": [],
   "source": [
    "# IMPORT PREDICTION ANALYSIS FUNCTION\n",
    "import config as c\n",
    "from FUNCTIONS.prediction_analysis import run_prediction_analysis, run_prediction_analysis_NN"
   ]
  },
  {
   "cell_type": "code",
   "execution_count": 2,
   "metadata": {},
   "outputs": [
    {
     "name": "stdout",
     "output_type": "stream",
     "text": [
      "PCA RESULTS\n",
      "-----------\n",
      "TOTAL PCA: 262\n",
      "TOTAL VARIANCE: 0.951\n",
      " \n",
      "PREDICTION RESULTS\n",
      "-----------\n",
      "RUN TIME: 0.21\n",
      "ACCURACY: 99.624\n",
      "HAMMING LOSS: 0.0014\n",
      "PREDICTION: ['BUILDINGID_1', 'FLOOR_2']\n"
     ]
    }
   ],
   "source": [
    "# PREDICTION ANALYSIS ON TRAINING DATA\n",
    "end_time, accuracy, h_loss, get_keys = run_prediction_analysis(data_file=\"trainingData\", targets=c.targets_bf)"
   ]
  },
  {
   "cell_type": "code",
   "execution_count": 3,
   "metadata": {},
   "outputs": [
    {
     "name": "stdout",
     "output_type": "stream",
     "text": [
      "PCA RESULTS\n",
      "-----------\n",
      "TOTAL PCA: 173\n",
      "TOTAL VARIANCE: 0.95\n",
      " \n",
      "PREDICTION RESULTS\n",
      "-----------\n",
      "RUN TIME: 0.02\n",
      "ACCURACY: 99.91\n",
      "HAMMING LOSS: 0.0002\n",
      "PREDICTION: ['BUILDINGID_1', 'FLOOR_1']\n"
     ]
    }
   ],
   "source": [
    "# PREDICTION ANALYSIS ON VALIDATION DATA\n",
    "end_time, accuracy, h_loss, get_keys = run_prediction_analysis(data_file=\"validationData\", targets=c.targets_bf)"
   ]
  },
  {
   "cell_type": "markdown",
   "metadata": {},
   "source": [
    "# PREDICTION ANALYSIS ON TRAINING DATA\n",
    "end_time, result = run_prediction_analysis_NN(data_file=\"trainingData\", targets=c.targets_ll)"
   ]
  }
 ],
 "metadata": {
  "kernelspec": {
   "display_name": "Python 3",
   "language": "python",
   "name": "python3"
  },
  "language_info": {
   "codemirror_mode": {
    "name": "ipython",
    "version": 3
   },
   "file_extension": ".py",
   "mimetype": "text/x-python",
   "name": "python",
   "nbconvert_exporter": "python",
   "pygments_lexer": "ipython3",
   "version": "3.10.10"
  },
  "orig_nbformat": 4,
  "vscode": {
   "interpreter": {
    "hash": "7301ed0b562e04a7bb94a732edab0aa8cf3251cc990be0396602b754736cf17d"
   }
  }
 },
 "nbformat": 4,
 "nbformat_minor": 2
}
